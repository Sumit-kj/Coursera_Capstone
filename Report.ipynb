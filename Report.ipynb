{
    "cells": [
        {
            "metadata": {
                "collapsed": true
            },
            "cell_type": "markdown",
            "source": "# Report for Capstone Project: Road Acciednt Severity "
        },
        {
            "metadata": {},
            "cell_type": "markdown",
            "source": "### Introduction"
        },
        {
            "metadata": {},
            "cell_type": "markdown",
            "source": "<p>Road Accidents are becoming a very common phenomenon now-a-days, given the circumstances like high traffic, weather, condition of driver while driving, condition of vehicle. Taking into consideration all these aspects, the stakeholders, i.e. the common people and the roadways authorities, need a system that can predict the fatalities, damage and precautions to road accidents.\nThe Business Problem Statement is to predict the Severity of a road accident, given different attributes of the situation, like coordinates, number of vehicles, road condition, light condition, drug usage, alcohol usage during driving, even as silly as not paying attention. All these can lead to road accidents.\n</p>"
        },
        {
            "metadata": {},
            "cell_type": "markdown",
            "source": "### Data"
        },
        {
            "metadata": {},
            "cell_type": "markdown",
            "source": "<p>The data source is provided by Coursera for the same purpose. The dataset contains 37 different columns, a few redundant and a few not very impactful. So the first step after acquiring data was to process the data. Following columns were selected for the project:\n\n'SEVERITYCODE', 'ADDRTYPE', 'INTKEY', 'COLLISIONTYPE', 'PERSONCOUNT', 'PEDCOUNT', 'PEDCYLCOUNT',  'VEHCOUNT', 'JUNCTIONTYPE', 'INATTENTIONIND', 'UNDERINFL', 'WEATHER', 'ROADCOND', 'LIGHTCOND', 'SPEEDING', 'HITPARKEDCAR' .\n\nAll these selected columns then were converted to usable format by one-hot coding or converting categorical data into processable integer values to ease out the execution of problem.\n</p>"
        },
        {
            "metadata": {},
            "cell_type": "code",
            "source": "",
            "execution_count": null,
            "outputs": []
        }
    ],
    "metadata": {
        "kernelspec": {
            "name": "python3",
            "display_name": "Python 3.6",
            "language": "python"
        },
        "language_info": {
            "name": "python",
            "version": "3.6.9",
            "mimetype": "text/x-python",
            "codemirror_mode": {
                "name": "ipython",
                "version": 3
            },
            "pygments_lexer": "ipython3",
            "nbconvert_exporter": "python",
            "file_extension": ".py"
        }
    },
    "nbformat": 4,
    "nbformat_minor": 1
}