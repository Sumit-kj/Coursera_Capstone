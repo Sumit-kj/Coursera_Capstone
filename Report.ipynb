{
    "cells": [
        {
            "metadata": {
                "collapsed": true
            },
            "cell_type": "markdown",
            "source": "# Report for Capstone Project: Road Acciednt Severity "
        },
        {
            "metadata": {},
            "cell_type": "markdown",
            "source": "### Introduction"
        },
        {
            "metadata": {},
            "cell_type": "code",
            "source": "<p>Road Accidents are becoming a very common phenomenon now-a-days, given the circumstances like high traffic, weather, condition of driver while driving, condition of vehicle. Taking into consideration all these aspects, the stakeholders, i.e. the common people and the roadways authorities, need a system that can predict the fatalities, damage and precautions to road accidents.\nThe Business Problem Statement is to predict the Severity of a road accident, given different attributes of the situation, like coordinates, number of vehicles, road condition, light condition, drug usage, alcohol usage during driving, even as silly as not paying attention. All these can lead to road accidents.\n</p>",
            "execution_count": 1,
            "outputs": [
                {
                    "output_type": "error",
                    "ename": "SyntaxError",
                    "evalue": "invalid syntax (<ipython-input-1-84d6f2c59b1a>, line 1)",
                    "traceback": [
                        "\u001b[0;36m  File \u001b[0;32m\"<ipython-input-1-84d6f2c59b1a>\"\u001b[0;36m, line \u001b[0;32m1\u001b[0m\n\u001b[0;31m    <p>Road Accidents are becoming a very common phenomenon now-a-days, given the circumstances like high traffic, weather, condition of driver while driving, condition of vehicle. Taking into consideration all these aspects, the stakeholders, i.e. the common people and the roadways authorities, need a system that can predict the fatalities, damage and precautions to road accidents.\u001b[0m\n\u001b[0m    ^\u001b[0m\n\u001b[0;31mSyntaxError\u001b[0m\u001b[0;31m:\u001b[0m invalid syntax\n"
                    ]
                }
            ]
        },
        {
            "metadata": {},
            "cell_type": "code",
            "source": "",
            "execution_count": null,
            "outputs": []
        }
    ],
    "metadata": {
        "kernelspec": {
            "name": "python3",
            "display_name": "Python 3.6",
            "language": "python"
        },
        "language_info": {
            "name": "python",
            "version": "3.6.9",
            "mimetype": "text/x-python",
            "codemirror_mode": {
                "name": "ipython",
                "version": 3
            },
            "pygments_lexer": "ipython3",
            "nbconvert_exporter": "python",
            "file_extension": ".py"
        }
    },
    "nbformat": 4,
    "nbformat_minor": 1
}