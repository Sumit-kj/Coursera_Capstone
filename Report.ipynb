{
    "cells": [
        {
            "cell_type": "markdown",
            "metadata": {
                "collapsed": true
            },
            "source": "# Report for Capstone Project: Road Acciednt Severity "
        },
        {
            "cell_type": "markdown",
            "metadata": {},
            "source": "### Introduction"
        },
        {
            "cell_type": "code",
            "execution_count": 1,
            "metadata": {},
            "outputs": [
                {
                    "ename": "SyntaxError",
                    "evalue": "invalid syntax (<ipython-input-1-84d6f2c59b1a>, line 1)",
                    "output_type": "error",
                    "traceback": [
                        "\u001b[0;36m  File \u001b[0;32m\"<ipython-input-1-84d6f2c59b1a>\"\u001b[0;36m, line \u001b[0;32m1\u001b[0m\n\u001b[0;31m    <p>Road Accidents are becoming a very common phenomenon now-a-days, given the circumstances like high traffic, weather, condition of driver while driving, condition of vehicle. Taking into consideration all these aspects, the stakeholders, i.e. the common people and the roadways authorities, need a system that can predict the fatalities, damage and precautions to road accidents.\u001b[0m\n\u001b[0m    ^\u001b[0m\n\u001b[0;31mSyntaxError\u001b[0m\u001b[0;31m:\u001b[0m invalid syntax\n"
                    ]
                }
            ],
            "source": "<p>Road Accidents are becoming a very common phenomenon now-a-days, given the circumstances like high traffic, weather, condition of driver while driving, condition of vehicle. Taking into consideration all these aspects, the stakeholders, i.e. the common people and the roadways authorities, need a system that can predict the fatalities, damage and precautions to road accidents.\nThe Business Problem Statement is to predict the Severity of a road accident, given different attributes of the situation, like coordinates, number of vehicles, road condition, light condition, drug usage, alcohol usage during driving, even as silly as not paying attention. All these can lead to road accidents.\n</p>"
        },
        {
            "cell_type": "code",
            "execution_count": null,
            "metadata": {},
            "outputs": [],
            "source": ""
        }
    ],
    "metadata": {
        "kernelspec": {
            "display_name": "Python 3.6",
            "language": "python",
            "name": "python3"
        },
        "language_info": {
            "codemirror_mode": {
                "name": "ipython",
                "version": 3
            },
            "file_extension": ".py",
            "mimetype": "text/x-python",
            "name": "python",
            "nbconvert_exporter": "python",
            "pygments_lexer": "ipython3",
            "version": "3.6.9"
        }
    },
    "nbformat": 4,
    "nbformat_minor": 1
}