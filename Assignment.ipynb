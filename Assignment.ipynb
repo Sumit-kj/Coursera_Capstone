{
    "cells": [
        {
            "cell_type": "code",
            "execution_count": 1,
            "metadata": {},
            "outputs": [],
            "source": "import pandas as pd\n# import numpy as np\nimport matplotlib.pyplot as plt\nimport seaborn as sbs\nfrom sklearn.model_selection import train_test_split\nfrom sklearn.tree import DecisionTreeClassifier\nfrom sklearn.svm import SVC\nfrom sklearn.neighbors import NearestCentroid\nfrom sklearn.naive_bayes import GaussianNB\nfrom sklearn.neural_network import MLPClassifier\nfrom sklearn import metrics\nimport matplotlib as mpl\nimport matplotlib.pyplot as plt"
        },
        {
            "cell_type": "code",
            "execution_count": 2,
            "metadata": {},
            "outputs": [],
            "source": "def get_features():\n    features = ['SEVERITYCODE', 'ADDRTYPE', 'COLLISIONTYPE', 'PERSONCOUNT', 'PEDCOUNT', 'PEDCYLCOUNT',\n               'VEHCOUNT', 'JUNCTIONTYPE', 'INATTENTIONIND', 'UNDERINFL', 'WEATHER', 'ROADCOND', 'LIGHTCOND',\n               'SPEEDING', 'HITPARKEDCAR']\n    return features"
        },
        {
            "cell_type": "code",
            "execution_count": 3,
            "metadata": {},
            "outputs": [
                {
                    "name": "stderr",
                    "output_type": "stream",
                    "text": "/opt/conda/envs/Python-3.7-main/lib/python3.7/site-packages/IPython/core/interactiveshell.py:3063: DtypeWarning: Columns (33) have mixed types.Specify dtype option on import or set low_memory=False.\n  interactivity=interactivity, compiler=compiler, result=result)\n"
                },
                {
                    "data": {
                        "text/html": "<div>\n<style scoped>\n    .dataframe tbody tr th:only-of-type {\n        vertical-align: middle;\n    }\n\n    .dataframe tbody tr th {\n        vertical-align: top;\n    }\n\n    .dataframe thead th {\n        text-align: right;\n    }\n</style>\n<table border=\"1\" class=\"dataframe\">\n  <thead>\n    <tr style=\"text-align: right;\">\n      <th></th>\n      <th>SEVERITYCODE</th>\n      <th>ADDRTYPE</th>\n      <th>COLLISIONTYPE</th>\n      <th>PERSONCOUNT</th>\n      <th>PEDCOUNT</th>\n      <th>PEDCYLCOUNT</th>\n      <th>VEHCOUNT</th>\n      <th>JUNCTIONTYPE</th>\n      <th>INATTENTIONIND</th>\n      <th>UNDERINFL</th>\n      <th>WEATHER</th>\n      <th>ROADCOND</th>\n      <th>LIGHTCOND</th>\n      <th>SPEEDING</th>\n      <th>HITPARKEDCAR</th>\n    </tr>\n  </thead>\n  <tbody>\n    <tr>\n      <th>0</th>\n      <td>2</td>\n      <td>Intersection</td>\n      <td>Angles</td>\n      <td>2</td>\n      <td>0</td>\n      <td>0</td>\n      <td>2</td>\n      <td>At Intersection (intersection related)</td>\n      <td>NaN</td>\n      <td>N</td>\n      <td>Overcast</td>\n      <td>Wet</td>\n      <td>Daylight</td>\n      <td>NaN</td>\n      <td>N</td>\n    </tr>\n    <tr>\n      <th>1</th>\n      <td>1</td>\n      <td>Block</td>\n      <td>Sideswipe</td>\n      <td>2</td>\n      <td>0</td>\n      <td>0</td>\n      <td>2</td>\n      <td>Mid-Block (not related to intersection)</td>\n      <td>NaN</td>\n      <td>0</td>\n      <td>Raining</td>\n      <td>Wet</td>\n      <td>Dark - Street Lights On</td>\n      <td>NaN</td>\n      <td>N</td>\n    </tr>\n    <tr>\n      <th>2</th>\n      <td>1</td>\n      <td>Block</td>\n      <td>Parked Car</td>\n      <td>4</td>\n      <td>0</td>\n      <td>0</td>\n      <td>3</td>\n      <td>Mid-Block (not related to intersection)</td>\n      <td>NaN</td>\n      <td>0</td>\n      <td>Overcast</td>\n      <td>Dry</td>\n      <td>Daylight</td>\n      <td>NaN</td>\n      <td>N</td>\n    </tr>\n    <tr>\n      <th>3</th>\n      <td>1</td>\n      <td>Block</td>\n      <td>Other</td>\n      <td>3</td>\n      <td>0</td>\n      <td>0</td>\n      <td>3</td>\n      <td>Mid-Block (not related to intersection)</td>\n      <td>NaN</td>\n      <td>N</td>\n      <td>Clear</td>\n      <td>Dry</td>\n      <td>Daylight</td>\n      <td>NaN</td>\n      <td>N</td>\n    </tr>\n    <tr>\n      <th>4</th>\n      <td>2</td>\n      <td>Intersection</td>\n      <td>Angles</td>\n      <td>2</td>\n      <td>0</td>\n      <td>0</td>\n      <td>2</td>\n      <td>At Intersection (intersection related)</td>\n      <td>NaN</td>\n      <td>0</td>\n      <td>Raining</td>\n      <td>Wet</td>\n      <td>Daylight</td>\n      <td>NaN</td>\n      <td>N</td>\n    </tr>\n  </tbody>\n</table>\n</div>",
                        "text/plain": "   SEVERITYCODE      ADDRTYPE COLLISIONTYPE  PERSONCOUNT  PEDCOUNT  \\\n0             2  Intersection        Angles            2         0   \n1             1         Block     Sideswipe            2         0   \n2             1         Block    Parked Car            4         0   \n3             1         Block         Other            3         0   \n4             2  Intersection        Angles            2         0   \n\n   PEDCYLCOUNT  VEHCOUNT                             JUNCTIONTYPE  \\\n0            0         2   At Intersection (intersection related)   \n1            0         2  Mid-Block (not related to intersection)   \n2            0         3  Mid-Block (not related to intersection)   \n3            0         3  Mid-Block (not related to intersection)   \n4            0         2   At Intersection (intersection related)   \n\n  INATTENTIONIND UNDERINFL   WEATHER ROADCOND                LIGHTCOND  \\\n0            NaN         N  Overcast      Wet                 Daylight   \n1            NaN         0   Raining      Wet  Dark - Street Lights On   \n2            NaN         0  Overcast      Dry                 Daylight   \n3            NaN         N     Clear      Dry                 Daylight   \n4            NaN         0   Raining      Wet                 Daylight   \n\n  SPEEDING HITPARKEDCAR  \n0      NaN            N  \n1      NaN            N  \n2      NaN            N  \n3      NaN            N  \n4      NaN            N  "
                    },
                    "execution_count": 3,
                    "metadata": {},
                    "output_type": "execute_result"
                }
            ],
            "source": "# The code was removed by Watson Studio for sharing."
        },
        {
            "cell_type": "code",
            "execution_count": null,
            "metadata": {},
            "outputs": [],
            "source": ""
        },
        {
            "cell_type": "code",
            "execution_count": 4,
            "metadata": {},
            "outputs": [],
            "source": "def get_column_na_alt(col):\n    fill_na_alt = {\n        'SEVERITYCODE': 0,\n        'ADDRTYPE': '',\n        'INTKEY': 0,\n        'COLLISIONTYPE': '',\n        'PERSONCOUNT': 0,\n        'PEDCOUNT': 0,\n        'PEDCYLCOUNT': 0,\n        'VEHCOUNT': 0,\n        'JUNCTIONTYPE': '',\n        'INATTENTIONIND': 'N',\n        'UNDERINFL': '',\n        'WEATHER': '',\n        'ROADCOND': '',\n        'LIGHTCOND': '',\n        'SPEEDING': 'N',\n        'HITPARKEDCAR': ''\n    }\n    return fill_na_alt[col]"
        },
        {
            "cell_type": "code",
            "execution_count": 5,
            "metadata": {},
            "outputs": [],
            "source": "def get_processed_dataframe(df, columns):\n    column_map = {}\n    features = ['ADDRTYPE', 'COLLISIONTYPE', 'PERSONCOUNT', 'PEDCOUNT', 'PEDCYLCOUNT',\n                'VEHCOUNT', 'JUNCTIONTYPE', 'INATTENTIONIND', 'UNDERINFL', 'WEATHER', 'ROADCOND', 'LIGHTCOND',\n                'SPEEDING', 'HITPARKEDCAR']\n    target = 'SEVERITYCODE'\n    categorical_columns = ['COLLISIONTYPE', 'JUNCTIONTYPE', 'WEATHER', 'ROADCOND', 'LIGHTCOND']\n    one_hot_columns = ['ADDRTYPE', 'INATTENTIONIND', 'UNDERINFL', 'SPEEDING', 'HITPARKEDCAR']\n    for col in categorical_columns:\n        df.fillna(get_column_na_alt(col), inplace=True)\n        column_map[col] = {}\n        unique_values = df[col].unique()\n        for i, uv in enumerate(unique_values):\n            column_map[col][uv] = i\n    column_map['UNDERINFL'] = {'0': 'N',\n                               '1': 'Y'}\n    df.replace(column_map, inplace=True)\n    for col in one_hot_columns:\n        df_temp = pd.get_dummies(df[col])\n        df_temp_col = df_temp.columns\n        df_col_rename = {}\n        for col_r in df_temp_col:\n            df_col_rename[col_r] = col + '_' + col_r.upper()\n        df_temp.rename(columns= df_col_rename, inplace=True)\n        df = df.join(df_temp)\n        if '' in df_col_rename.keys():\n            df.drop([col, str(col+'_').strip()], axis=1, inplace=True)\n        else:\n            df.drop([col], axis=1, inplace=True)\n    return df, column_map, features, target"
        },
        {
            "cell_type": "code",
            "execution_count": 6,
            "metadata": {},
            "outputs": [],
            "source": "df_collision, column_map, features, target = get_processed_dataframe(df_collision, features)"
        },
        {
            "cell_type": "code",
            "execution_count": 7,
            "metadata": {},
            "outputs": [
                {
                    "data": {
                        "text/html": "<div>\n<style scoped>\n    .dataframe tbody tr th:only-of-type {\n        vertical-align: middle;\n    }\n\n    .dataframe tbody tr th {\n        vertical-align: top;\n    }\n\n    .dataframe thead th {\n        text-align: right;\n    }\n</style>\n<table border=\"1\" class=\"dataframe\">\n  <thead>\n    <tr style=\"text-align: right;\">\n      <th></th>\n      <th>SEVERITYCODE</th>\n      <th>COLLISIONTYPE</th>\n      <th>PERSONCOUNT</th>\n      <th>PEDCOUNT</th>\n      <th>PEDCYLCOUNT</th>\n      <th>VEHCOUNT</th>\n      <th>JUNCTIONTYPE</th>\n      <th>WEATHER</th>\n      <th>ROADCOND</th>\n      <th>LIGHTCOND</th>\n      <th>ADDRTYPE_ALLEY</th>\n      <th>ADDRTYPE_BLOCK</th>\n      <th>ADDRTYPE_INTERSECTION</th>\n      <th>INATTENTIONIND_Y</th>\n      <th>UNDERINFL_N</th>\n      <th>UNDERINFL_Y</th>\n      <th>SPEEDING_Y</th>\n      <th>HITPARKEDCAR_N</th>\n      <th>HITPARKEDCAR_Y</th>\n    </tr>\n  </thead>\n  <tbody>\n    <tr>\n      <th>0</th>\n      <td>2</td>\n      <td>0</td>\n      <td>2</td>\n      <td>0</td>\n      <td>0</td>\n      <td>2</td>\n      <td>0</td>\n      <td>0</td>\n      <td>0</td>\n      <td>0</td>\n      <td>0</td>\n      <td>0</td>\n      <td>1</td>\n      <td>0</td>\n      <td>1</td>\n      <td>0</td>\n      <td>0</td>\n      <td>1</td>\n      <td>0</td>\n    </tr>\n    <tr>\n      <th>1</th>\n      <td>1</td>\n      <td>1</td>\n      <td>2</td>\n      <td>0</td>\n      <td>0</td>\n      <td>2</td>\n      <td>1</td>\n      <td>1</td>\n      <td>0</td>\n      <td>1</td>\n      <td>0</td>\n      <td>1</td>\n      <td>0</td>\n      <td>0</td>\n      <td>1</td>\n      <td>0</td>\n      <td>0</td>\n      <td>1</td>\n      <td>0</td>\n    </tr>\n    <tr>\n      <th>2</th>\n      <td>1</td>\n      <td>2</td>\n      <td>4</td>\n      <td>0</td>\n      <td>0</td>\n      <td>3</td>\n      <td>1</td>\n      <td>0</td>\n      <td>1</td>\n      <td>0</td>\n      <td>0</td>\n      <td>1</td>\n      <td>0</td>\n      <td>0</td>\n      <td>1</td>\n      <td>0</td>\n      <td>0</td>\n      <td>1</td>\n      <td>0</td>\n    </tr>\n    <tr>\n      <th>3</th>\n      <td>1</td>\n      <td>3</td>\n      <td>3</td>\n      <td>0</td>\n      <td>0</td>\n      <td>3</td>\n      <td>1</td>\n      <td>2</td>\n      <td>1</td>\n      <td>0</td>\n      <td>0</td>\n      <td>1</td>\n      <td>0</td>\n      <td>0</td>\n      <td>1</td>\n      <td>0</td>\n      <td>0</td>\n      <td>1</td>\n      <td>0</td>\n    </tr>\n    <tr>\n      <th>4</th>\n      <td>2</td>\n      <td>0</td>\n      <td>2</td>\n      <td>0</td>\n      <td>0</td>\n      <td>2</td>\n      <td>0</td>\n      <td>1</td>\n      <td>0</td>\n      <td>0</td>\n      <td>0</td>\n      <td>0</td>\n      <td>1</td>\n      <td>0</td>\n      <td>1</td>\n      <td>0</td>\n      <td>0</td>\n      <td>1</td>\n      <td>0</td>\n    </tr>\n  </tbody>\n</table>\n</div>",
                        "text/plain": "   SEVERITYCODE  COLLISIONTYPE  PERSONCOUNT  PEDCOUNT  PEDCYLCOUNT  VEHCOUNT  \\\n0             2              0            2         0            0         2   \n1             1              1            2         0            0         2   \n2             1              2            4         0            0         3   \n3             1              3            3         0            0         3   \n4             2              0            2         0            0         2   \n\n   JUNCTIONTYPE  WEATHER  ROADCOND  LIGHTCOND  ADDRTYPE_ALLEY  ADDRTYPE_BLOCK  \\\n0             0        0         0          0               0               0   \n1             1        1         0          1               0               1   \n2             1        0         1          0               0               1   \n3             1        2         1          0               0               1   \n4             0        1         0          0               0               0   \n\n   ADDRTYPE_INTERSECTION  INATTENTIONIND_Y  UNDERINFL_N  UNDERINFL_Y  \\\n0                      1                 0            1            0   \n1                      0                 0            1            0   \n2                      0                 0            1            0   \n3                      0                 0            1            0   \n4                      1                 0            1            0   \n\n   SPEEDING_Y  HITPARKEDCAR_N  HITPARKEDCAR_Y  \n0           0               1               0  \n1           0               1               0  \n2           0               1               0  \n3           0               1               0  \n4           0               1               0  "
                    },
                    "execution_count": 7,
                    "metadata": {},
                    "output_type": "execute_result"
                }
            ],
            "source": "df_collision.head()"
        },
        {
            "cell_type": "code",
            "execution_count": 8,
            "metadata": {},
            "outputs": [],
            "source": "def apply_model(X_train, X_test, y_train, y_test, model):\n    classifier = model\n    classifier_model = classifier.fit(X_train, y_train)\n    y_pred = classifier_model.predict(X_test)\n    return get_accuracy_for_model(y_pred, y_test)\n\n\ndef get_accuracy_for_model(y_pred, y_test):\n    return metrics.accuracy_score(y_test, y_pred)"
        },
        {
            "cell_type": "code",
            "execution_count": 9,
            "metadata": {},
            "outputs": [],
            "source": "def apply_model_and_get_accuracy(df):\n    X = df.drop('SEVERITYCODE', axis=1)\n    y = df.SEVERITYCODE\n    X_train, X_test, y_train, y_test = train_test_split(X, y, test_size=0.3, random_state=1)\n    model_list = [\n        {\n            'name': 'Decision Tree',\n            'function': DecisionTreeClassifier(),\n            'accuracy': 0\n        },\n        {\n            'name': 'Gaussian NB',\n            'function': GaussianNB(),\n            'accuracy': 0\n        },\n        {\n            'name': 'Nearest Neighbors',\n            'function': NearestCentroid(),\n            'accuracy': 0\n        },\n        {\n            'name': 'Neural Network',\n            'function': MLPClassifier(\n                solver='lbfgs',\n                alpha=1e-5,\n                hidden_layer_sizes=(5, 2),\n                random_state=1\n            ),\n            'accuracy': 0\n        }\n    ]\n    for model in model_list:\n        model['accuracy'] = apply_model(X_train, X_test, y_train, y_test, model['function'])\n        print('Accuracy for ' + model['name'] + ': ', model['accuracy'])\n    return model_list"
        },
        {
            "cell_type": "code",
            "execution_count": 10,
            "metadata": {},
            "outputs": [
                {
                    "data": {
                        "text/html": "<div>\n<style scoped>\n    .dataframe tbody tr th:only-of-type {\n        vertical-align: middle;\n    }\n\n    .dataframe tbody tr th {\n        vertical-align: top;\n    }\n\n    .dataframe thead th {\n        text-align: right;\n    }\n</style>\n<table border=\"1\" class=\"dataframe\">\n  <thead>\n    <tr style=\"text-align: right;\">\n      <th></th>\n      <th>SEVERITYCODE</th>\n      <th>COLLISIONTYPE</th>\n      <th>PERSONCOUNT</th>\n      <th>PEDCOUNT</th>\n      <th>PEDCYLCOUNT</th>\n      <th>VEHCOUNT</th>\n      <th>JUNCTIONTYPE</th>\n      <th>WEATHER</th>\n      <th>ROADCOND</th>\n      <th>LIGHTCOND</th>\n      <th>ADDRTYPE_ALLEY</th>\n      <th>ADDRTYPE_BLOCK</th>\n      <th>ADDRTYPE_INTERSECTION</th>\n      <th>INATTENTIONIND_Y</th>\n      <th>UNDERINFL_N</th>\n      <th>UNDERINFL_Y</th>\n      <th>SPEEDING_Y</th>\n      <th>HITPARKEDCAR_N</th>\n      <th>HITPARKEDCAR_Y</th>\n    </tr>\n  </thead>\n  <tbody>\n    <tr>\n      <th>0</th>\n      <td>2</td>\n      <td>0</td>\n      <td>2</td>\n      <td>0</td>\n      <td>0</td>\n      <td>2</td>\n      <td>0</td>\n      <td>0</td>\n      <td>0</td>\n      <td>0</td>\n      <td>0</td>\n      <td>0</td>\n      <td>1</td>\n      <td>0</td>\n      <td>1</td>\n      <td>0</td>\n      <td>0</td>\n      <td>1</td>\n      <td>0</td>\n    </tr>\n    <tr>\n      <th>1</th>\n      <td>1</td>\n      <td>1</td>\n      <td>2</td>\n      <td>0</td>\n      <td>0</td>\n      <td>2</td>\n      <td>1</td>\n      <td>1</td>\n      <td>0</td>\n      <td>1</td>\n      <td>0</td>\n      <td>1</td>\n      <td>0</td>\n      <td>0</td>\n      <td>1</td>\n      <td>0</td>\n      <td>0</td>\n      <td>1</td>\n      <td>0</td>\n    </tr>\n    <tr>\n      <th>2</th>\n      <td>1</td>\n      <td>2</td>\n      <td>4</td>\n      <td>0</td>\n      <td>0</td>\n      <td>3</td>\n      <td>1</td>\n      <td>0</td>\n      <td>1</td>\n      <td>0</td>\n      <td>0</td>\n      <td>1</td>\n      <td>0</td>\n      <td>0</td>\n      <td>1</td>\n      <td>0</td>\n      <td>0</td>\n      <td>1</td>\n      <td>0</td>\n    </tr>\n    <tr>\n      <th>3</th>\n      <td>1</td>\n      <td>3</td>\n      <td>3</td>\n      <td>0</td>\n      <td>0</td>\n      <td>3</td>\n      <td>1</td>\n      <td>2</td>\n      <td>1</td>\n      <td>0</td>\n      <td>0</td>\n      <td>1</td>\n      <td>0</td>\n      <td>0</td>\n      <td>1</td>\n      <td>0</td>\n      <td>0</td>\n      <td>1</td>\n      <td>0</td>\n    </tr>\n    <tr>\n      <th>4</th>\n      <td>2</td>\n      <td>0</td>\n      <td>2</td>\n      <td>0</td>\n      <td>0</td>\n      <td>2</td>\n      <td>0</td>\n      <td>1</td>\n      <td>0</td>\n      <td>0</td>\n      <td>0</td>\n      <td>0</td>\n      <td>1</td>\n      <td>0</td>\n      <td>1</td>\n      <td>0</td>\n      <td>0</td>\n      <td>1</td>\n      <td>0</td>\n    </tr>\n    <tr>\n      <th>...</th>\n      <td>...</td>\n      <td>...</td>\n      <td>...</td>\n      <td>...</td>\n      <td>...</td>\n      <td>...</td>\n      <td>...</td>\n      <td>...</td>\n      <td>...</td>\n      <td>...</td>\n      <td>...</td>\n      <td>...</td>\n      <td>...</td>\n      <td>...</td>\n      <td>...</td>\n      <td>...</td>\n      <td>...</td>\n      <td>...</td>\n      <td>...</td>\n    </tr>\n    <tr>\n      <th>194668</th>\n      <td>2</td>\n      <td>6</td>\n      <td>3</td>\n      <td>0</td>\n      <td>0</td>\n      <td>2</td>\n      <td>1</td>\n      <td>2</td>\n      <td>1</td>\n      <td>0</td>\n      <td>0</td>\n      <td>1</td>\n      <td>0</td>\n      <td>0</td>\n      <td>1</td>\n      <td>0</td>\n      <td>0</td>\n      <td>1</td>\n      <td>0</td>\n    </tr>\n    <tr>\n      <th>194669</th>\n      <td>1</td>\n      <td>5</td>\n      <td>2</td>\n      <td>0</td>\n      <td>0</td>\n      <td>2</td>\n      <td>1</td>\n      <td>1</td>\n      <td>0</td>\n      <td>0</td>\n      <td>0</td>\n      <td>1</td>\n      <td>0</td>\n      <td>1</td>\n      <td>1</td>\n      <td>0</td>\n      <td>0</td>\n      <td>1</td>\n      <td>0</td>\n    </tr>\n    <tr>\n      <th>194670</th>\n      <td>2</td>\n      <td>8</td>\n      <td>3</td>\n      <td>0</td>\n      <td>0</td>\n      <td>2</td>\n      <td>0</td>\n      <td>2</td>\n      <td>1</td>\n      <td>0</td>\n      <td>0</td>\n      <td>0</td>\n      <td>1</td>\n      <td>0</td>\n      <td>1</td>\n      <td>0</td>\n      <td>0</td>\n      <td>1</td>\n      <td>0</td>\n    </tr>\n    <tr>\n      <th>194671</th>\n      <td>2</td>\n      <td>4</td>\n      <td>2</td>\n      <td>0</td>\n      <td>1</td>\n      <td>1</td>\n      <td>0</td>\n      <td>2</td>\n      <td>1</td>\n      <td>5</td>\n      <td>0</td>\n      <td>0</td>\n      <td>1</td>\n      <td>0</td>\n      <td>1</td>\n      <td>0</td>\n      <td>0</td>\n      <td>1</td>\n      <td>0</td>\n    </tr>\n    <tr>\n      <th>194672</th>\n      <td>1</td>\n      <td>5</td>\n      <td>2</td>\n      <td>0</td>\n      <td>0</td>\n      <td>2</td>\n      <td>1</td>\n      <td>2</td>\n      <td>0</td>\n      <td>0</td>\n      <td>0</td>\n      <td>1</td>\n      <td>0</td>\n      <td>0</td>\n      <td>1</td>\n      <td>0</td>\n      <td>0</td>\n      <td>1</td>\n      <td>0</td>\n    </tr>\n  </tbody>\n</table>\n<p>194673 rows \u00d7 19 columns</p>\n</div>",
                        "text/plain": "        SEVERITYCODE  COLLISIONTYPE  PERSONCOUNT  PEDCOUNT  PEDCYLCOUNT  \\\n0                  2              0            2         0            0   \n1                  1              1            2         0            0   \n2                  1              2            4         0            0   \n3                  1              3            3         0            0   \n4                  2              0            2         0            0   \n...              ...            ...          ...       ...          ...   \n194668             2              6            3         0            0   \n194669             1              5            2         0            0   \n194670             2              8            3         0            0   \n194671             2              4            2         0            1   \n194672             1              5            2         0            0   \n\n        VEHCOUNT  JUNCTIONTYPE  WEATHER  ROADCOND  LIGHTCOND  ADDRTYPE_ALLEY  \\\n0              2             0        0         0          0               0   \n1              2             1        1         0          1               0   \n2              3             1        0         1          0               0   \n3              3             1        2         1          0               0   \n4              2             0        1         0          0               0   \n...          ...           ...      ...       ...        ...             ...   \n194668         2             1        2         1          0               0   \n194669         2             1        1         0          0               0   \n194670         2             0        2         1          0               0   \n194671         1             0        2         1          5               0   \n194672         2             1        2         0          0               0   \n\n        ADDRTYPE_BLOCK  ADDRTYPE_INTERSECTION  INATTENTIONIND_Y  UNDERINFL_N  \\\n0                    0                      1                 0            1   \n1                    1                      0                 0            1   \n2                    1                      0                 0            1   \n3                    1                      0                 0            1   \n4                    0                      1                 0            1   \n...                ...                    ...               ...          ...   \n194668               1                      0                 0            1   \n194669               1                      0                 1            1   \n194670               0                      1                 0            1   \n194671               0                      1                 0            1   \n194672               1                      0                 0            1   \n\n        UNDERINFL_Y  SPEEDING_Y  HITPARKEDCAR_N  HITPARKEDCAR_Y  \n0                 0           0               1               0  \n1                 0           0               1               0  \n2                 0           0               1               0  \n3                 0           0               1               0  \n4                 0           0               1               0  \n...             ...         ...             ...             ...  \n194668            0           0               1               0  \n194669            0           0               1               0  \n194670            0           0               1               0  \n194671            0           0               1               0  \n194672            0           0               1               0  \n\n[194673 rows x 19 columns]"
                    },
                    "execution_count": 10,
                    "metadata": {},
                    "output_type": "execute_result"
                }
            ],
            "source": "df_collision"
        },
        {
            "cell_type": "code",
            "execution_count": 11,
            "metadata": {},
            "outputs": [
                {
                    "data": {
                        "text/plain": "SEVERITYCODE             int64\nCOLLISIONTYPE            int64\nPERSONCOUNT              int64\nPEDCOUNT                 int64\nPEDCYLCOUNT              int64\nVEHCOUNT                 int64\nJUNCTIONTYPE             int64\nWEATHER                  int64\nROADCOND                 int64\nLIGHTCOND                int64\nADDRTYPE_ALLEY           uint8\nADDRTYPE_BLOCK           uint8\nADDRTYPE_INTERSECTION    uint8\nINATTENTIONIND_Y         uint8\nUNDERINFL_N              uint8\nUNDERINFL_Y              uint8\nSPEEDING_Y               uint8\nHITPARKEDCAR_N           uint8\nHITPARKEDCAR_Y           uint8\ndtype: object"
                    },
                    "execution_count": 11,
                    "metadata": {},
                    "output_type": "execute_result"
                }
            ],
            "source": "df_collision.dtypes"
        },
        {
            "cell_type": "code",
            "execution_count": 12,
            "metadata": {},
            "outputs": [
                {
                    "name": "stdout",
                    "output_type": "stream",
                    "text": "Accuracy for Decision Tree:  0.7472175610424301\nAccuracy for Gaussian NB:  0.7047532618745933\nAccuracy for Nearest Neighbors:  0.6791205780623951\nAccuracy for Neural Network:  0.7035889181877333\n"
                }
            ],
            "source": "model_list = apply_model_and_get_accuracy(df_collision)"
        },
        {
            "cell_type": "code",
            "execution_count": null,
            "metadata": {},
            "outputs": [],
            "source": ""
        },
        {
            "cell_type": "code",
            "execution_count": null,
            "metadata": {},
            "outputs": [],
            "source": ""
        }
    ],
    "metadata": {
        "kernelspec": {
            "display_name": "Python 3.7",
            "language": "python",
            "name": "python3"
        },
        "language_info": {
            "codemirror_mode": {
                "name": "ipython",
                "version": 3
            },
            "file_extension": ".py",
            "mimetype": "text/x-python",
            "name": "python",
            "nbconvert_exporter": "python",
            "pygments_lexer": "ipython3",
            "version": "3.7.9"
        }
    },
    "nbformat": 4,
    "nbformat_minor": 1
}