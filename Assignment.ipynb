{
    "cells": [
        {
            "cell_type": "code",
            "execution_count": 1,
            "metadata": {},
            "outputs": [],
            "source": "import pandas as pd\n# import numpy as np\nimport matplotlib.pyplot as plt\nimport seaborn as sbs\nfrom sklearn.model_selection import train_test_split\nfrom sklearn.tree import DecisionTreeClassifier\nfrom sklearn.svm import SVC\nfrom sklearn.neighbors import NearestCentroid\nfrom sklearn.naive_bayes import GaussianNB\nfrom sklearn.neural_network import MLPClassifier\nfrom sklearn import metrics\n%matplotlib inline\nimport matplotlib as mpl\nimport matplotlib.pyplot as plt\nmpl.style.use('ggplot')"
        },
        {
            "cell_type": "code",
            "execution_count": 2,
            "metadata": {},
            "outputs": [],
            "source": "def get_features():\n    features = ['SEVERITYCODE', 'ADDRTYPE', 'COLLISIONTYPE', 'PERSONCOUNT', 'PEDCOUNT', 'PEDCYLCOUNT',\n               'VEHCOUNT', 'JUNCTIONTYPE', 'INATTENTIONIND', 'UNDERINFL', 'WEATHER', 'ROADCOND', 'LIGHTCOND',\n               'SPEEDING', 'HITPARKEDCAR']\n    return features"
        },
        {
            "cell_type": "code",
            "execution_count": 3,
            "metadata": {},
            "outputs": [
                {
                    "ename": "SyntaxError",
                    "evalue": "invalid syntax (<ipython-input-3-a86f5e5768a9>, line 2)",
                    "output_type": "error",
                    "traceback": [
                        "\u001b[0;36m  File \u001b[0;32m\"<ipython-input-3-a86f5e5768a9>\"\u001b[0;36m, line \u001b[0;32m2\u001b[0m\n\u001b[0;31m    import types\u001b[0m\n\u001b[0m         ^\u001b[0m\n\u001b[0;31mSyntaxError\u001b[0m\u001b[0;31m:\u001b[0m invalid syntax\n"
                    ]
                }
            ],
            "source": "# The code was removed by Watson Studio for sharing."
        },
        {
            "cell_type": "code",
            "execution_count": null,
            "metadata": {},
            "outputs": [],
            "source": "def get_column_na_alt(col):\n    fill_na_alt = {\n        'SEVERITYCODE': 0,\n        'ADDRTYPE': '',\n        'INTKEY': 0,\n        'COLLISIONTYPE': '',\n        'PERSONCOUNT': 0,\n        'PEDCOUNT': 0,\n        'PEDCYLCOUNT': 0,\n        'VEHCOUNT': 0,\n        'JUNCTIONTYPE': '',\n        'INATTENTIONIND': 'N',\n        'UNDERINFL': '',\n        'WEATHER': '',\n        'ROADCOND': '',\n        'LIGHTCOND': '',\n        'SPEEDING': 'N',\n        'HITPARKEDCAR': ''\n    }\n    return fill_na_alt[col]"
        },
        {
            "cell_type": "code",
            "execution_count": null,
            "metadata": {},
            "outputs": [],
            "source": "def get_processed_dataframe(df, columns):\n    column_map = {}\n    features = ['ADDRTYPE', 'COLLISIONTYPE', 'PERSONCOUNT', 'PEDCOUNT', 'PEDCYLCOUNT',\n                'VEHCOUNT', 'JUNCTIONTYPE', 'INATTENTIONIND', 'UNDERINFL', 'WEATHER', 'ROADCOND', 'LIGHTCOND',\n                'SPEEDING', 'HITPARKEDCAR']\n    target = 'SEVERITYCODE'\n    categorical_columns = ['COLLISIONTYPE', 'JUNCTIONTYPE', 'WEATHER', 'ROADCOND', 'LIGHTCOND']\n    one_hot_columns = ['ADDRTYPE', 'INATTENTIONIND', 'UNDERINFL', 'SPEEDING', 'HITPARKEDCAR']\n    for col in categorical_columns:\n        df.fillna(get_column_na_alt(col), inplace=True)\n        column_map[col] = {}\n        unique_values = df[col].unique()\n        for i, uv in enumerate(unique_values):\n            column_map[col][uv] = i\n    column_map['UNDERINFL'] = {'0': 'N',\n                               '1': 'Y'}\n    df.replace(column_map, inplace=True)\n    for col in one_hot_columns:\n        df_temp = pd.get_dummies(df[col])\n        df_temp_col = df_temp.columns\n        df_col_rename = {}\n        for col_r in df_temp_col:\n            df_col_rename[col_r] = col + '_' + col_r.upper()\n        df_temp.rename(columns= df_col_rename, inplace=True)\n        df = df.join(df_temp)\n        if '' in df_col_rename.keys():\n            df.drop([col, str(col+'_').strip()], axis=1, inplace=True)\n        else:\n            df.drop([col], axis=1, inplace=True)\n    return df, column_map, features, target"
        },
        {
            "cell_type": "code",
            "execution_count": null,
            "metadata": {},
            "outputs": [],
            "source": "df_collision, column_map, features, target = get_processed_dataframe(df_collision, features)\ndf_collision.head()"
        },
        {
            "cell_type": "code",
            "execution_count": null,
            "metadata": {},
            "outputs": [],
            "source": "def get_column_correlation(df):\n    correlation = df.corr()\n    sbs.heatmap(correlation, xticklabels=correlation.columns, yticklabels=correlation.columns)\n    return correlation"
        },
        {
            "cell_type": "code",
            "execution_count": null,
            "metadata": {},
            "outputs": [],
            "source": "correlation = get_column_correlation(df_collision)"
        },
        {
            "cell_type": "code",
            "execution_count": null,
            "metadata": {},
            "outputs": [],
            "source": "def apply_model(X_train, X_test, y_train, y_test, model):\n    classifier = model\n    classifier_model = classifier.fit(X_train, y_train)\n    y_pred = classifier_model.predict(X_test)\n    return get_accuracy_for_model(y_pred, y_test)\n\n\ndef get_accuracy_for_model(y_pred, y_test):\n    return metrics.accuracy_score(y_test, y_pred)"
        },
        {
            "cell_type": "code",
            "execution_count": null,
            "metadata": {},
            "outputs": [],
            "source": "def apply_model_and_get_accuracy(df):\n    X = df.drop('SEVERITYCODE', axis=1)\n    y = df.SEVERITYCODE\n    X_train, X_test, y_train, y_test = train_test_split(X, y, test_size=0.3, random_state=1)\n    model_list = [\n        {\n            'name': 'Decision Tree',\n            'function': DecisionTreeClassifier(),\n            'accuracy': 0\n        },\n        {\n            'name': 'Gaussian Naive Bayes',\n            'function': GaussianNB(),\n            'accuracy': 0\n        },\n        {\n            'name': 'Nearest Neighbors',\n            'function': NearestCentroid(),\n            'accuracy': 0\n        },\n        {\n            'name': 'Neural Network',\n            'function': MLPClassifier(\n                solver='lbfgs',\n                alpha=1e-5,\n                hidden_layer_sizes=(5, 2),\n                random_state=1\n            ),\n            'accuracy': 0\n        }\n    ]\n    for model in model_list:\n        model['accuracy'] = apply_model(X_train, X_test, y_train, y_test, model['function'])\n        print('Accuracy for ' + model['name'] + ': ', model['accuracy'])\n    return model_list"
        },
        {
            "cell_type": "code",
            "execution_count": null,
            "metadata": {},
            "outputs": [],
            "source": "model_list = apply_model_and_get_accuracy(df_collision)\n"
        },
        {
            "cell_type": "code",
            "execution_count": null,
            "metadata": {},
            "outputs": [],
            "source": "accuracy_list = []\nmodels_name = []\nfor model_data in model_list:\n    accuracy_list.append(model_data['accuracy'])\n    models_name.append(model_data['name'])\nfig = plt.figure()\nax = fig.add_axes([0,0,1,1])\nax.bar(models_name,accuracy_list)\nplt.show()"
        },
        {
            "cell_type": "code",
            "execution_count": null,
            "metadata": {},
            "outputs": [],
            "source": ""
        }
    ],
    "metadata": {
        "kernelspec": {
            "display_name": "Python 3.7",
            "language": "python",
            "name": "python3"
        },
        "language_info": {
            "codemirror_mode": {
                "name": "ipython",
                "version": 3
            },
            "file_extension": ".py",
            "mimetype": "text/x-python",
            "name": "python",
            "nbconvert_exporter": "python",
            "pygments_lexer": "ipython3",
            "version": "3.7.9"
        }
    },
    "nbformat": 4,
    "nbformat_minor": 1
}